{
  "nbformat": 4,
  "nbformat_minor": 0,
  "metadata": {
    "colab": {
      "provenance": [],
      "authorship_tag": "ABX9TyOhSB+UUlZE0zgFubiMfyPO",
      "include_colab_link": true
    },
    "kernelspec": {
      "name": "python3",
      "display_name": "Python 3"
    },
    "language_info": {
      "name": "python"
    }
  },
  "cells": [
    {
      "cell_type": "markdown",
      "metadata": {
        "id": "view-in-github",
        "colab_type": "text"
      },
      "source": [
        "<a href=\"https://colab.research.google.com/github/AKACHI-4/2048/blob/main/Email%20Spam%20Classification/notebook.ipynb\" target=\"_parent\"><img src=\"https://colab.research.google.com/assets/colab-badge.svg\" alt=\"Open In Colab\"/></a>"
      ]
    },
    {
      "cell_type": "markdown",
      "source": [
        "# Email Spam Classification"
      ],
      "metadata": {
        "id": "thAUgae1vhM-"
      }
    },
    {
      "cell_type": "markdown",
      "source": [
        "## Data Collection and preprocessing"
      ],
      "metadata": {
        "id": "TAjfocdWz39L"
      }
    },
    {
      "cell_type": "code",
      "source": [
        "import os"
      ],
      "metadata": {
        "id": "N92ebnUA1IHZ"
      },
      "execution_count": 49,
      "outputs": []
    },
    {
      "cell_type": "code",
      "execution_count": 9,
      "metadata": {
        "id": "xr5UHkBtQVzG"
      },
      "outputs": [],
      "source": [
        "dataset_dir = 'datasets'\n",
        "model_dir = 'model'\n",
        "tar_dir = os.path.join(dataset_dir, 'tar')"
      ]
    },
    {
      "cell_type": "code",
      "source": [
        "spams = 'https://spamassassin.apache.org/old/publiccorpus/20050311_spam_2.tar.bz2'\n",
        "nonspams_easy = 'https://spamassassin.apache.org/old/publiccorpus/20030228_easy_ham_2.tar.bz2'\n",
        "nonspams_hard = 'https://spamassassin.apache.org/old/publiccorpus/20030228_hard_ham.tar.bz2'"
      ],
      "metadata": {
        "id": "OYQciPtpv0Fi"
      },
      "execution_count": 10,
      "outputs": []
    },
    {
      "cell_type": "markdown",
      "source": [
        "## download the dataset"
      ],
      "metadata": {
        "id": "hNG0Rz591Nrc"
      }
    },
    {
      "cell_type": "code",
      "source": [
        "from urllib.request import urlretrieve\n",
        "import tarfile\n",
        "import shutil"
      ],
      "metadata": {
        "id": "9X9-B9anx80A"
      },
      "execution_count": 11,
      "outputs": []
    },
    {
      "cell_type": "code",
      "source": [
        "def download_dataset(url):\n",
        "\n",
        "  # create directory if it doesn't exist\n",
        "  if not os.path.isdir(tar_dir):\n",
        "    os.makedirs(tar_dir)\n",
        "\n",
        "  filename = url.rsplit('/', 1)[-1]\n",
        "  tarpath = os.path.join(tar_dir, filename)\n",
        "\n",
        "  try:\n",
        "    tarfile.open(tarpath)\n",
        "  except:\n",
        "    urlretrieve(url, tarpath)\n",
        "\n",
        "  with tarfile.open(tarpath) as tar:\n",
        "    dirname = os.path.join(dataset_dir, tar.getnames()[0])\n",
        "\n",
        "    if os.path.isdir(dirname):\n",
        "      shutil.rmtree(dirname)\n",
        "    tar.extractall(path=dataset_dir)\n",
        "\n",
        "    cmds_path = os.path.join(dirname, 'cmds')\n",
        "    if os.path.isfile(cmds_path):\n",
        "      os.remove(cmds_path)\n",
        "\n",
        "    return dirname"
      ],
      "metadata": {
        "id": "68817_Ez1hQa"
      },
      "execution_count": 12,
      "outputs": []
    },
    {
      "cell_type": "code",
      "source": [
        "spam_dir = download_dataset(spams)\n",
        "nonspam_easy_dir = download_dataset(nonspams_easy)\n",
        "nonspam_hard_dir = download_dataset(nonspams_hard)"
      ],
      "metadata": {
        "id": "c8HBWIp15GKd"
      },
      "execution_count": 31,
      "outputs": []
    },
    {
      "cell_type": "markdown",
      "source": [
        "## Load dataset"
      ],
      "metadata": {
        "id": "Vl_bboaZ7Hms"
      }
    },
    {
      "cell_type": "code",
      "source": [
        "import numpy as np\n",
        "import glob\n",
        "\n",
        "def load_dataset(dirpath):\n",
        "\n",
        "  files = []\n",
        "  filepaths = glob.glob(dirpath + '/*')\n",
        "  for path in filepaths:\n",
        "    with open (path, 'rb') as f:\n",
        "      byte_content = f.read()\n",
        "      str_content = byte_content.decode('utf-8', errors='ignore')\n",
        "      files.append(str_content)\n",
        "\n",
        "  return files"
      ],
      "metadata": {
        "id": "cdWa9trM7EmS"
      },
      "execution_count": 34,
      "outputs": []
    },
    {
      "cell_type": "code",
      "source": [
        "spams = load_dataset(spam_dir)\n",
        "nonspam_easy = load_dataset(nonspam_easy_dir)\n",
        "nonspam_hard = load_dataset(nonspam_hard_dir)"
      ],
      "metadata": {
        "id": "jqRgyURR8NHh"
      },
      "execution_count": 35,
      "outputs": []
    },
    {
      "cell_type": "code",
      "source": [
        "import sklearn.utils\n",
        "\n",
        "X = spams + nonspam_easy + nonspam_hard\n",
        "\n",
        "Y_one = np.ones(len(spams))\n",
        "Y_zero = np.zeros(len(nonspam_easy) + len(nonspam_hard))\n",
        "\n",
        "Y = np.concatenate((Y_one, Y_zero))"
      ],
      "metadata": {
        "id": "yYNzhGYD9GYy"
      },
      "execution_count": 44,
      "outputs": []
    },
    {
      "cell_type": "code",
      "source": [
        "X, Y = sklearn.utils.shuffle(X, Y, random_state=42)"
      ],
      "metadata": {
        "id": "NoLbIVnX9mkB"
      },
      "execution_count": 45,
      "outputs": []
    },
    {
      "cell_type": "code",
      "source": [
        "from sklearn.model_selection import train_test_split\n",
        "\n",
        "X_train, X_test, Y_train, Y_test = train_test_split(X, Y, test_size=0.2, stratify=Y, random_state=42)"
      ],
      "metadata": {
        "id": "Vy6y1Syb-m51"
      },
      "execution_count": 48,
      "outputs": []
    },
    {
      "cell_type": "code",
      "source": [
        "print(len(X_train), len(Y_train))\n",
        "print(len(X_test), len(Y_test))"
      ],
      "metadata": {
        "id": "ywvcY5Bu_QW8",
        "outputId": "3d4cc84d-88db-40fd-dcdf-5025bfdffe89",
        "colab": {
          "base_uri": "https://localhost:8080/"
        }
      },
      "execution_count": 52,
      "outputs": [
        {
          "output_type": "stream",
          "name": "stdout",
          "text": [
            "2436 2436\n",
            "610 610\n"
          ]
        }
      ]
    },
    {
      "cell_type": "markdown",
      "source": [
        "# data preparation pipeline"
      ],
      "metadata": {
        "id": "VO4DTAJ7BC6Y"
      }
    },
    {
      "cell_type": "code",
      "source": [
        "def remove_header(email):\n",
        "  return email[email.index('\\n\\n'):]"
      ],
      "metadata": {
        "id": "wuADafjyBPD4"
      },
      "execution_count": 53,
      "outputs": []
    },
    {
      "cell_type": "code",
      "source": [],
      "metadata": {
        "id": "W76j2i7jBpFj"
      },
      "execution_count": null,
      "outputs": []
    }
  ]
}